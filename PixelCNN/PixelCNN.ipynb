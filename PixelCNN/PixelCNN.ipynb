{
 "cells": [
  {
   "cell_type": "code",
   "execution_count": 2,
   "id": "d03f37c1",
   "metadata": {
    "tags": []
   },
   "outputs": [
    {
     "name": "stdout",
     "output_type": "stream",
     "text": [
      "Device: [StreamExecutorGpuDevice(id=0, process_index=0, slice_index=0), StreamExecutorGpuDevice(id=1, process_index=0, slice_index=0)]\n"
     ]
    }
   ],
   "source": [
    "import os\n",
    "import math\n",
    "import numpy as np\n",
    "from typing import Any\n",
    "\n",
    "## Imports for plotting\n",
    "import matplotlib.pyplot as plt\n",
    "plt.set_cmap('cividis')\n",
    "%matplotlib inline\n",
    "from matplotlib.colors import to_rgb\n",
    "import seaborn as sns\n",
    "\n",
    "## tqdm for progress bars\n",
    "from tqdm.auto import tqdm\n",
    "\n",
    "## JAX\n",
    "import jax\n",
    "import jax.numpy as jnp\n",
    "from jax import random\n",
    "\n",
    "## Flax (NN in JAX)\n",
    "try:\n",
    "    import flax\n",
    "except ModuleNotFoundError: # Install flax if missing\n",
    "    !pip install --quiet flax\n",
    "    import flax\n",
    "from flax import linen as nn\n",
    "from flax.training import train_state, checkpoints\n",
    "\n",
    "## Optax (Optimizers in JAX)\n",
    "try:\n",
    "    import optax\n",
    "except ModuleNotFoundError: # Install optax if missing\n",
    "    !pip install --quiet optax\n",
    "    import optax\n",
    "\n",
    "## PyTorch Data Loading\n",
    "import torch\n",
    "import torch.utils.data as data\n",
    "from torch.utils.tensorboard import SummaryWriter\n",
    "\n",
    "# Torchvision\n",
    "from torchvision.datasets import MNIST\n",
    "from torchvision import transforms\n",
    "\n",
    "# Path to the folder where the datasets are/should be downloaded (e.g. MNIST)\n",
    "DATASET_PATH = \"../data\"\n",
    "# Path to the folder where the pretrained models are saved\n",
    "CHECKPOINT_PATH = \"../saved_models/tutorial12_jax\"\n",
    "\n",
    "print(\"Device:\", jax.devices())"
   ]
  },
  {
   "cell_type": "code",
   "execution_count": 38,
   "id": "d909c7f6",
   "metadata": {
    "tags": []
   },
   "outputs": [],
   "source": [
    "def image_to_numpy(img):\n",
    "    img = np.array(img, dtype=np.int32)\n",
    "    img = img[..., None]\n",
    "    return img\n",
    "\n",
    "train_dataset = MNIST(root=DATASET_PATH, train=True, transform=image_to_numpy, download=True)\n",
    "train_set, val_set = torch.utils.data.random_split(train_dataset, [50000, 10000],\n",
    "                                                   generator=torch.Generator().manual_seed(42))\n",
    "test_set = MNIST(root=DATASET_PATH, train=False,\n",
    "                 transform=image_to_numpy, download=True)"
   ]
  },
  {
   "cell_type": "code",
   "execution_count": 41,
   "id": "49520447-f5e8-4f59-8bbe-9ec8ac33063d",
   "metadata": {},
   "outputs": [],
   "source": [
    "def numpy_collate(batch):\n",
    "    if isinstance(batch[0], np.ndarray):\n",
    "        return np.stack(batch)\n",
    "    elif isinstance(batch[0], (tuple, list)):\n",
    "        transposed = zip(*batch)\n",
    "        return [numpy_collate(samples) for samples in transposed]\n",
    "    else:\n",
    "        return np.array(batch)\n",
    "\n",
    "\n",
    "train_loader = data.DataLoader(train_set,\n",
    "                               batch_size=128,\n",
    "                               shuffle=True,\n",
    "                               drop_last=True,\n",
    "                               collate_fn=numpy_collate,\n",
    "                               num_workers=8,\n",
    "                               persistent_workers=True)\n",
    "val_loader = data.DataLoader(val_set, batch_size=128, shuffle=False,\n",
    "                             drop_last=False, num_workers=4, collate_fn=numpy_collate)\n",
    "test_loader = data.DataLoader(test_set, batch_size=128, shuffle=False,\n",
    "                              drop_last=False, num_workers=4, collate_fn=numpy_collate)"
   ]
  },
  {
   "cell_type": "code",
   "execution_count": 69,
   "id": "56ca7c27-69ca-4c0d-941a-daf104aa9efa",
   "metadata": {},
   "outputs": [
    {
     "data": {
      "image/png": "[encoded data removed]",
      "text/plain": [
       "<Figure size 600x300 with 1 Axes>"
      ]
     },
     "metadata": {},
     "output_type": "display_data"
    }
   ],
   "source": [
    "def show_imgs(imgs):\n",
    "    imgs = jax.device_get(imgs)\n",
    "    if isinstance(imgs, (list, tuple)):\n",
    "        imgs = np.stack(imgs, axis=0)\n",
    "    num_imgs = imgs.shape[0]\n",
    "    if num_imgs < 4 or num_imgs % 4 == 0:\n",
    "        nrow = min(num_imgs, 4)\n",
    "        ncol = int(math.ceil(num_imgs/nrow))\n",
    "    else:\n",
    "        nrow = num_imgs\n",
    "        ncol = 1\n",
    "    imgs = np.pad(imgs, pad_width=[(0,0), (1,1), (1,1), (0,0)], constant_values=128)\n",
    "    imgs = np.reshape(imgs, (nrow, ncol, *imgs.shape[1:]))\n",
    "    imgs = np.transpose(imgs, (1, 2, 0, 3, 4))\n",
    "    imgs = np.reshape(imgs, (imgs.shape[0]*imgs.shape[1], imgs.shape[2]*imgs.shape[3], -1))\n",
    "    imgs = np.pad(imgs, pad_width=[(1,1), (1,1), (0,0)], constant_values=128)\n",
    "    imgs = np.squeeze(imgs, axis=-1)\n",
    "    plt.figure(figsize=(1.5*nrow, 1.5*ncol))\n",
    "    plt.imshow(imgs, interpolation='nearest', cmap='gray')\n",
    "    plt.axis('off')\n",
    "    plt.show()\n",
    "    plt.close()\n",
    "\n",
    "show_imgs([train_set[i][0] for i in range(8)])"
   ]
  },
  {
   "cell_type": "code",
   "execution_count": 180,
   "id": "1ef596d6-9da4-4dec-9996-e955fda36c7e",
   "metadata": {},
   "outputs": [],
   "source": [
    "class MaskedConvolution(nn.Module):\n",
    "    c_out : int\n",
    "    mask : np.ndarray\n",
    "    dilation : int = 1\n",
    "\n",
    "    @nn.compact\n",
    "    def __call__(self, x):\n",
    "        # Flax's convolution module already supports masking\n",
    "        # The mask must be the same size as kernel\n",
    "        # => extend over input and output feature channels\n",
    "        if len(self.mask.shape) == 2:\n",
    "            mask_ext = self.mask[...,None,None]\n",
    "            print(x.shape[-1])\n",
    "            mask_ext = jnp.tile(mask_ext, (1, 1, x.shape[-1], self.c_out))\n",
    "        else:\n",
    "            mask_ext = self.mask\n",
    "        # Convolution with masking\n",
    "        x = nn.Conv(features=self.c_out,\n",
    "                    kernel_size=self.mask.shape[:2],\n",
    "                    kernel_dilation=self.dilation,\n",
    "                    mask=mask_ext)(x)\n",
    "        return x"
   ]
  },
  {
   "cell_type": "code",
   "execution_count": 209,
   "id": "43b5c9f8-7596-4f58-aaaa-42fdc201afb8",
   "metadata": {},
   "outputs": [],
   "source": [
    "class VerticalStackConvolution(nn.Module):\n",
    "    c_out : int\n",
    "    kernel_size : int\n",
    "    mask_center : bool = False\n",
    "    dilation : int = 1\n",
    "    \n",
    "    def setup(self):\n",
    "        mask = np.ones((self.kernel_size, self.kernel_size), dtype=np.float32)\n",
    "        mask[self.kernel_size // 2 + 1: , :] = 0\n",
    "        if self.mask_center:\n",
    "            mask[self.kernel_size // 2, :] = 0\n",
    "        self.conv = MaskedConvolution(\n",
    "            self.c_out, mask=mask, dilation=self.dilation\n",
    "        )\n",
    "        \n",
    "    def __call__(self, x):\n",
    "        return self.conv(x)"
   ]
  },
  {
   "cell_type": "code",
   "execution_count": 210,
   "id": "80ec1c82-ad20-4cb5-9f93-1b330b4df891",
   "metadata": {
    "tags": []
   },
   "outputs": [],
   "source": [
    "class HorizontalStackConvolution(nn.Module):\n",
    "    c_out : int\n",
    "    kernel_size : int\n",
    "    mask_center : bool = False\n",
    "    dilation : int = 1\n",
    "\n",
    "    def setup(self):\n",
    "        mask = np.ones((1, self.kernel_size), dtype=np.float32)\n",
    "        mask[0,self.kernel_size//2+1:] = 0\n",
    "        if self.mask_center:\n",
    "            mask[0,self.kernel_size//2] = 0\n",
    "\n",
    "        self.conv = MaskedConvolution(c_out=self.c_out,\n",
    "                                      mask=mask,\n",
    "                                      dilation=self.dilation)\n",
    "    def __call__(self, x):\n",
    "        return self.conv(x)"
   ]
  },
  {
   "cell_type": "code",
   "execution_count": 211,
   "id": "ec3a52a6-34bc-4ae4-aed8-5761af79d0e6",
   "metadata": {
    "tags": []
   },
   "outputs": [
    {
     "data": {
      "image/png": "[encoded data removed]",
      "text/plain": [
       "<Figure size 640x480 with 2 Axes>"
      ]
     },
     "metadata": {},
     "output_type": "display_data"
    }
   ],
   "source": [
    "inp_img = np.zeros((1, 11, 11, 1), dtype=np.float32)\n",
    "\n",
    "def show_center_recep_field(img, apply_fn):\n",
    "    \"\"\"\n",
    "    Calculates the gradients of the input with respect to the output center pixel,\n",
    "    and visualizes the overall receptive field.\n",
    "    Inputs:\n",
    "        img - Input image for which we want to calculate the receptive field on.\n",
    "        out - Output features/loss which is used for backpropagation, and should be\n",
    "              the output of the network/computation graph.\n",
    "    \"\"\"\n",
    "    # Determine gradients\n",
    "    grad_fn = jax.grad(lambda inp: apply_fn(inp)[0,inp.shape[1]//2,inp.shape[2]//2][0])\n",
    "    img_grads = jnp.abs(grad_fn(img))\n",
    "    img_grads = jax.device_get(img_grads)\n",
    "    \n",
    "    # Plot receptive field\n",
    "    img = img_grads[0,...,0]\n",
    "    fig, ax = plt.subplots(1,2)\n",
    "    pos = ax[0].imshow(img)\n",
    "    ax[1].imshow(img>0)\n",
    "    # Mark the center pixel in red if it doesn't have any gradients (should be the case for standard autoregressive models)\n",
    "    show_center = (img[img.shape[0]//2, img.shape[1]//2] == 0)\n",
    "    if show_center:\n",
    "        center_pixel = np.zeros(img.shape + (4,))\n",
    "        center_pixel[center_pixel.shape[0]//2,center_pixel.shape[1]//2,:] = np.array([1.0, 0.0, 0.0, 1.0])\n",
    "    for i in range(2):\n",
    "        ax[i].axis('off')\n",
    "        if show_center:\n",
    "            ax[i].imshow(center_pixel)\n",
    "    ax[0].set_title(\"Weighted receptive field\")\n",
    "    ax[1].set_title(\"Binary receptive field\")\n",
    "    plt.show()\n",
    "    plt.close()\n",
    "\n",
    "show_center_recep_field(inp_img, lambda x: x)"
   ]
  },
  {
   "cell_type": "code",
   "execution_count": 212,
   "id": "89d34fdb-05bd-489e-85af-68ac55008645",
   "metadata": {
    "tags": []
   },
   "outputs": [
    {
     "name": "stdout",
     "output_type": "stream",
     "text": [
      "1\n",
      "1\n"
     ]
    },
    {
     "data": {
      "image/png": "[encoded data removed]",
      "text/plain": [
       "<Figure size 640x480 with 2 Axes>"
      ]
     },
     "metadata": {},
     "output_type": "display_data"
    }
   ],
   "source": [
    "horiz_conv = HorizontalStackConvolution(c_out=1, kernel_size=3, mask_center=True)\n",
    "\n",
    "init_params = lambda params: jax.tree_map(lambda x: jnp.full(x.shape, (0 if len(x.shape) == 1 else 1), dtype=x.dtype), params)\n",
    "horiz_params = horiz_conv.init(random.PRNGKey(0), inp_img)\n",
    "horiz_params = init_params(horiz_params)\n",
    "# Apply horizontal convolution\n",
    "horiz_conv = horiz_conv.bind(horiz_params)\n",
    "show_center_recep_field(inp_img, lambda inp: horiz_conv(inp))"
   ]
  },
  {
   "cell_type": "code",
   "execution_count": 213,
   "id": "fa823ee8-ceca-49fa-8cb0-3160579cbf74",
   "metadata": {
    "tags": []
   },
   "outputs": [
    {
     "name": "stdout",
     "output_type": "stream",
     "text": [
      "1\n",
      "1\n"
     ]
    },
    {
     "data": {
      "image/png": "[encoded data removed]",
      "text/plain": [
       "<Figure size 640x480 with 2 Axes>"
      ]
     },
     "metadata": {},
     "output_type": "display_data"
    }
   ],
   "source": [
    "vert_conv = VerticalStackConvolution(c_out=1, kernel_size=3, mask_center=True)\n",
    "vert_params = vert_conv.init(random.PRNGKey(0), inp_img)\n",
    "vert_params = init_params(vert_params)\n",
    "vert_conv = vert_conv.bind(vert_params)\n",
    "show_center_recep_field(inp_img, lambda inp: vert_conv(inp))"
   ]
  },
  {
   "cell_type": "code",
   "execution_count": 214,
   "id": "0f9f48ae-ca8d-48f1-a6a6-1974787e96f6",
   "metadata": {
    "tags": []
   },
   "outputs": [
    {
     "name": "stdout",
     "output_type": "stream",
     "text": [
      "1\n",
      "1\n"
     ]
    },
    {
     "data": {
      "image/png": "[encoded data removed]",
      "text/plain": [
       "<Figure size 640x480 with 2 Axes>"
      ]
     },
     "metadata": {},
     "output_type": "display_data"
    }
   ],
   "source": [
    "show_center_recep_field(inp_img, lambda inp: vert_conv(inp) + horiz_conv(inp))"
   ]
  },
  {
   "cell_type": "code",
   "execution_count": 215,
   "id": "605891e2-3260-48f5-ba5a-0b50fbca15fe",
   "metadata": {
    "tags": []
   },
   "outputs": [
    {
     "name": "stdout",
     "output_type": "stream",
     "text": [
      "Layer 2\n",
      "1\n",
      "1\n",
      "1\n",
      "1\n"
     ]
    },
    {
     "data": {
      "image/png": "[encoded data removed]",
      "text/plain": [
       "<Figure size 640x480 with 2 Axes>"
      ]
     },
     "metadata": {},
     "output_type": "display_data"
    },
    {
     "name": "stdout",
     "output_type": "stream",
     "text": [
      "Layer 3\n",
      "1\n",
      "1\n",
      "1\n",
      "1\n",
      "1\n",
      "1\n"
     ]
    },
    {
     "data": {
      "image/png": "[encoded data removed]",
      "text/plain": [
       "<Figure size 640x480 with 2 Axes>"
      ]
     },
     "metadata": {},
     "output_type": "display_data"
    },
    {
     "name": "stdout",
     "output_type": "stream",
     "text": [
      "Layer 4\n",
      "1\n",
      "1\n",
      "1\n",
      "1\n",
      "1\n",
      "1\n",
      "1\n",
      "1\n"
     ]
    },
    {
     "data": {
      "image/png": "[encoded data removed]",
      "text/plain": [
       "<Figure size 640x480 with 2 Axes>"
      ]
     },
     "metadata": {},
     "output_type": "display_data"
    },
    {
     "name": "stdout",
     "output_type": "stream",
     "text": [
      "Layer 5\n",
      "1\n",
      "1\n",
      "1\n",
      "1\n",
      "1\n",
      "1\n",
      "1\n",
      "1\n",
      "1\n",
      "1\n"
     ]
    },
    {
     "data": {
      "image/png": "[encoded data removed]",
      "text/plain": [
       "<Figure size 640x480 with 2 Axes>"
      ]
     },
     "metadata": {},
     "output_type": "display_data"
    }
   ],
   "source": [
    "horiz_noc_conv = HorizontalStackConvolution(c_out=1, kernel_size=3, mask_center=False)\n",
    "vert_noc_conv = VerticalStackConvolution(c_out=1, kernel_size=3, mask_center=False)\n",
    "horiz_noc_conv = horiz_noc_conv.bind(horiz_params)\n",
    "vert_noc_conv = vert_noc_conv.bind(vert_params)\n",
    "\n",
    "# We reuse our convolutions for the several layers with same parameters just for visualization.\n",
    "def num_layer_network(inp, num_layers):\n",
    "    vert_img = vert_conv(inp)\n",
    "    horiz_img = horiz_conv(inp) + vert_img\n",
    "    for _ in range(num_layers-1):\n",
    "        vert_img = vert_noc_conv(vert_img)\n",
    "        horiz_img = horiz_noc_conv(horiz_img) + vert_img\n",
    "    return horiz_img, vert_img\n",
    "\n",
    "for layer_count in range(2, 6):\n",
    "    print(f\"Layer {layer_count}\")\n",
    "    show_center_recep_field(inp_img, lambda inp: num_layer_network(inp, layer_count)[0])"
   ]
  },
  {
   "cell_type": "code",
   "execution_count": null,
   "id": "ac8de719-87ad-4dbe-8c37-de05bbd0902d",
   "metadata": {},
   "outputs": [],
   "source": []
  },
  {
   "cell_type": "code",
   "execution_count": null,
   "id": "05b900fb-144f-4403-8f70-724250a66f39",
   "metadata": {},
   "outputs": [],
   "source": []
  },
  {
   "cell_type": "code",
   "execution_count": null,
   "id": "1620c727-b1a5-43a5-964c-32db594a9d31",
   "metadata": {},
   "outputs": [],
   "source": []
  },
  {
   "cell_type": "code",
   "execution_count": null,
   "id": "19a5b77e-c5e5-4c18-b3d3-028ea1b696a5",
   "metadata": {},
   "outputs": [],
   "source": []
  }
 ],
 "metadata": {
  "kernelspec": {
   "display_name": "Python 3 (ipykernel)",
   "language": "python",
   "name": "python3"
  },
  "language_info": {
   "codemirror_mode": {
    "name": "ipython",
    "version": 3
   },
   "file_extension": ".py",
   "mimetype": "text/x-python",
   "name": "python",
   "nbconvert_exporter": "python",
   "pygments_lexer": "ipython3",
   "version": "3.10.9"
  }
 },
 "nbformat": 4,
 "nbformat_minor": 5
}
